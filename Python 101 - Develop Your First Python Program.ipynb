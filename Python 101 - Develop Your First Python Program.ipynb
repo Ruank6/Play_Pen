{
 "cells": [
  {
   "cell_type": "markdown",
   "id": "25ab60a2",
   "metadata": {},
   "source": [
    "# TASK #1: UNDERSTAND VARIABLES ASSIGNMENT"
   ]
  },
  {
   "cell_type": "code",
   "execution_count": 3,
   "id": "fd53d674",
   "metadata": {},
   "outputs": [],
   "source": [
    "# Define a variable named \"x\" and assign a number (integer) to it\n",
    "# integer is a whole number (no decimals) that could be positive or negative\n",
    "\n",
    "x = 200"
   ]
  },
  {
   "cell_type": "code",
   "execution_count": 4,
   "id": "155b00d9",
   "metadata": {},
   "outputs": [
    {
     "data": {
      "text/plain": [
       "200"
      ]
     },
     "execution_count": 4,
     "metadata": {},
     "output_type": "execute_result"
    }
   ],
   "source": [
    "# Let's view \"x\"\n",
    "x"
   ]
  },
  {
   "cell_type": "code",
   "execution_count": 5,
   "id": "3a419683",
   "metadata": {},
   "outputs": [],
   "source": [
    "# Define a variable named \"y\" and assign a number (float) to it\n",
    "# Float are real numbers with a decimal point dividing the integer and fractional parts\n",
    "y= 50.5"
   ]
  },
  {
   "cell_type": "code",
   "execution_count": 6,
   "id": "a84b017c",
   "metadata": {},
   "outputs": [
    {
     "data": {
      "text/plain": [
       "50.5"
      ]
     },
     "execution_count": 6,
     "metadata": {},
     "output_type": "execute_result"
    }
   ],
   "source": [
    "# Let's view \"y\"\n",
    "y"
   ]
  },
  {
   "cell_type": "code",
   "execution_count": 7,
   "id": "98fca9a4",
   "metadata": {},
   "outputs": [],
   "source": [
    "# Let's overwrite \"y\" (assume your portfolio value increased)\n",
    "y= 300.5"
   ]
  },
  {
   "cell_type": "code",
   "execution_count": 8,
   "id": "bab27919",
   "metadata": {},
   "outputs": [
    {
     "data": {
      "text/plain": [
       "300.5"
      ]
     },
     "execution_count": 8,
     "metadata": {},
     "output_type": "execute_result"
    }
   ],
   "source": [
    "# Notice that \"y\" will only contain the most recent value\n",
    "y"
   ]
  },
  {
   "cell_type": "code",
   "execution_count": 9,
   "id": "9ff3d83a",
   "metadata": {},
   "outputs": [
    {
     "data": {
      "text/plain": [
       "int"
      ]
     },
     "execution_count": 9,
     "metadata": {},
     "output_type": "execute_result"
    }
   ],
   "source": [
    "# Get the type of \"x\" which is integer\n",
    "# integer is a whole number (no decimals) that could be positive or negative\n",
    "type(x)"
   ]
  },
  {
   "cell_type": "code",
   "execution_count": 10,
   "id": "2ff19a66",
   "metadata": {},
   "outputs": [
    {
     "data": {
      "text/plain": [
       "float"
      ]
     },
     "execution_count": 10,
     "metadata": {},
     "output_type": "execute_result"
    }
   ],
   "source": [
    "# Get the type of \"y\" which is float\n",
    "# Float are real numbers with a decimal point dividing the integer and fractional parts\n",
    "type(y)"
   ]
  },
  {
   "cell_type": "markdown",
   "id": "9df8f1ce",
   "metadata": {},
   "source": [
    "MINI CHALLENGE #1:\n",
    "\n",
    "We defined a variable x and we assigned these 4 values listed below to it. Without executing any code cells, what will these lines of code generate?\n",
    "\n",
    "Verify your answer by executing the code cells\n",
    "\n",
    "z = 1000\n",
    "\n",
    "z = 2000\n",
    "\n",
    "z = 5000\n",
    "\n",
    "z = 6000\n",
    "\n",
    "z"
   ]
  },
  {
   "cell_type": "code",
   "execution_count": 11,
   "id": "b5854939",
   "metadata": {},
   "outputs": [
    {
     "data": {
      "text/plain": [
       "6000"
      ]
     },
     "execution_count": 11,
     "metadata": {},
     "output_type": "execute_result"
    }
   ],
   "source": [
    "x = 1000\n",
    "x = 2000\n",
    "x = 5000\n",
    "x = 6000\n",
    "x"
   ]
  },
  {
   "cell_type": "markdown",
   "id": "e58ba242",
   "metadata": {},
   "source": [
    "# TASK #2: PERFORM MATH OPERATIONS IN PYTHON"
   ]
  },
  {
   "cell_type": "code",
   "execution_count": 12,
   "id": "4fd6f3d3",
   "metadata": {},
   "outputs": [
    {
     "data": {
      "text/plain": [
       "24"
      ]
     },
     "execution_count": 12,
     "metadata": {},
     "output_type": "execute_result"
    }
   ],
   "source": [
    "# Define a variable named i and initialize it with 20 \n",
    "# Let's assume that we want to increment the value by 4 \n",
    "i=20\n",
    "i = i + 4\n",
    "i \n"
   ]
  },
  {
   "cell_type": "code",
   "execution_count": 13,
   "id": "7ef9c612",
   "metadata": {},
   "outputs": [
    {
     "data": {
      "text/plain": [
       "150"
      ]
     },
     "execution_count": 13,
     "metadata": {},
     "output_type": "execute_result"
    }
   ],
   "source": [
    "# Let's assume that you own a little grocery store \n",
    "# The price of 1 bottle of milk is $3 and we currently have 50 bottles\n",
    "# We can calculate the total dollar value of our inventory as follows:\n",
    "price_per_bottle = 3\n",
    "number_of_bottles = 50  \n",
    "total_value = price_per_bottle * number_of_bottles\n",
    "total_value"
   ]
  },
  {
   "cell_type": "code",
   "execution_count": 14,
   "id": "536565b6",
   "metadata": {},
   "outputs": [
    {
     "data": {
      "text/plain": [
       "4.296875"
      ]
     },
     "execution_count": 14,
     "metadata": {},
     "output_type": "execute_result"
    }
   ],
   "source": [
    "# Let's assume you have $550 USD in our bank account\n",
    "# We want to buy x number of IBM stocks using the total amount \n",
    "# each IBM stock is priced at $128 each\n",
    "account_balance = 550\n",
    "ibm_stock_price = 128\n",
    "number_of_ibm_stocks = account_balance / ibm_stock_price\n",
    "number_of_ibm_stocks"
   ]
  },
  {
   "cell_type": "code",
   "execution_count": 15,
   "id": "19b9f779",
   "metadata": {},
   "outputs": [
    {
     "data": {
      "text/plain": [
       "0.16467065868263472"
      ]
     },
     "execution_count": 15,
     "metadata": {},
     "output_type": "execute_result"
    }
   ],
   "source": [
    "# Divide the account balance by Amazon stock price and place the answer in units\n",
    "\n",
    "number_of_amazon_stocks = account_balance / 3340\n",
    "number_of_amazon_stocks"
   ]
  },
  {
   "cell_type": "markdown",
   "id": "3872444f",
   "metadata": {},
   "source": [
    "MINI CHALLENGE #2:\n",
    "\n",
    "Write a code that takes in APPLE (AAPL) stock prices at two days and calculate the return:\n",
    "\n",
    "AAPL price on day 1 = $135\n",
    "\n",
    "AAPL price on day 2 = $150"
   ]
  },
  {
   "cell_type": "code",
   "execution_count": 16,
   "id": "fba5a8d9",
   "metadata": {},
   "outputs": [
    {
     "data": {
      "text/plain": [
       "11.11111111111111"
      ]
     },
     "execution_count": 16,
     "metadata": {},
     "output_type": "execute_result"
    }
   ],
   "source": [
    "Apple_d1 = 135\n",
    "Apple_d2 = 150\n",
    "\n",
    "Apple_return_perc = (Apple_d2 - Apple_d1) / Apple_d1 * 100\n",
    "Apple_return_perc"
   ]
  },
  {
   "cell_type": "markdown",
   "id": "7a736f05",
   "metadata": {},
   "source": [
    "# TASK #3: UNDERSTAND PRINT AND INPUT OPERATIONS"
   ]
  },
  {
   "cell_type": "code",
   "execution_count": 17,
   "id": "42c19365",
   "metadata": {},
   "outputs": [
    {
     "name": "stdout",
     "output_type": "stream",
     "text": [
      "Welcoem to Ruan's guided project in Python\n"
     ]
    }
   ],
   "source": [
    "# Print function is used to print elements on the screen\n",
    "# Define a string x \n",
    "# A string in Python is a sequence of characters\n",
    "# String in python are surrounded by single or double quotation marks\n",
    "\n",
    "x = \"Welcoem to Ruan's guided project in Python\"\n",
    "print(x)"
   ]
  },
  {
   "cell_type": "code",
   "execution_count": 18,
   "id": "07122868",
   "metadata": {},
   "outputs": [
    {
     "data": {
      "text/plain": [
       "str"
      ]
     },
     "execution_count": 18,
     "metadata": {},
     "output_type": "execute_result"
    }
   ],
   "source": [
    "# Obtain the data type for 'x'\n",
    "type(x)"
   ]
  },
  {
   "cell_type": "code",
   "execution_count": 19,
   "id": "d135f449",
   "metadata": {},
   "outputs": [
    {
     "name": "stdout",
     "output_type": "stream",
     "text": [
      "I own 400 shares of Amazon\n"
     ]
    }
   ],
   "source": [
    "# The format() method formats the specified value and insert it in the placeholder\n",
    "# The placeholder is defined using curly braces: {}\n",
    "company_name = 'Amazon'\n",
    "shares = 400\n",
    "\n",
    "print(\"I own {} shares of {}\".format(shares, company_name))"
   ]
  },
  {
   "cell_type": "code",
   "execution_count": 33,
   "id": "f292b5fd",
   "metadata": {},
   "outputs": [
    {
     "name": "stdout",
     "output_type": "stream",
     "text": [
      "Client Name: Ruan Kapp\n",
      "Country: South Africa\n",
      "Email: ruan.test.co.za\n"
     ]
    }
   ],
   "source": [
    "# input is a built-in function in python\n",
    "# Obtain client data such as name, country and e-mail and print them all out on the screen\n",
    "name = input('Welcome to the store please enter your name: ')\n",
    "country = input('Please enter your country: ')\n",
    "email = input('Please enter your email: ')\n",
    "\n",
    "print(\"Client Name:\", name)\n",
    "print(\"Country:\", country)\n",
    "print(\"Email:\", email)"
   ]
  },
  {
   "cell_type": "markdown",
   "id": "c4392840",
   "metadata": {},
   "source": [
    "MINI CHALLENGE #3:\n",
    "\n",
    "Write a code that takes in the name of the stock, price at which it is selling, the number of stocks that you want to own and prints out the total funds required to buy this stock. Find a sample expected output below:\n",
    "\n",
    "Enter the price of the stock you want to buy: 3000\n",
    "\n",
    "Enter the number of stocks that you want to buy: 5\n",
    "\n",
    "Enter the name of the stock that you want to buy: AMZN\n",
    "\n",
    "The total funds required to buy 5 number of AMZN stocks at 3000 is: 15000"
   ]
  },
  {
   "cell_type": "code",
   "execution_count": 36,
   "id": "683408a4",
   "metadata": {},
   "outputs": [
    {
     "name": "stdout",
     "output_type": "stream",
     "text": [
      "Total funds required to buy 5 stocks of AMZN at $3000.0 each is: $15000.0\n"
     ]
    }
   ],
   "source": [
    "#Write a code that takes in the name of the stock, price at which it is selling, the number of stocks that you want to own and prints out the total funds required to buy this stock\n",
    "stock_name = input('Enter the name of the stock: ')\n",
    "stock_price = float(input('Enter the price of the stock: '))\n",
    "number_of_stocks = int(input('Enter the number of stocks you want to buy: '))\n",
    "total_funds_required = stock_price * number_of_stocks\n",
    "print(\"Total funds required to buy {} stocks of {} at ${} each is: ${}\".format(number_of_stocks, stock_name, stock_price, total_funds_required))\n",
    "\n"
   ]
  },
  {
   "cell_type": "markdown",
   "id": "a4b4e4c2",
   "metadata": {},
   "source": [
    "# TASK #4: UNDERSTAND LISTS DATA TYPES"
   ]
  },
  {
   "cell_type": "code",
   "execution_count": null,
   "id": "dae9e82e",
   "metadata": {},
   "outputs": [
    {
     "data": {
      "text/plain": [
       "['oranges', 'apples', 'bananas']"
      ]
     },
     "execution_count": 38,
     "metadata": {},
     "output_type": "execute_result"
    }
   ],
   "source": [
    "# A list is a collection which is ordered and changeable. \n",
    "# List allows duplicate members.\n",
    "grocery_list = ['oranges', 'apples', 'bananas']\n",
    "grocery_list"
   ]
  },
  {
   "cell_type": "code",
   "execution_count": 39,
   "id": "9cfefa7f",
   "metadata": {},
   "outputs": [
    {
     "data": {
      "text/plain": [
       "list"
      ]
     },
     "execution_count": 39,
     "metadata": {},
     "output_type": "execute_result"
    }
   ],
   "source": [
    "# Obtain the datatype\n",
    "type(grocery_list)"
   ]
  },
  {
   "cell_type": "code",
   "execution_count": 42,
   "id": "6906853f",
   "metadata": {},
   "outputs": [
    {
     "data": {
      "text/plain": [
       "'oranges'"
      ]
     },
     "execution_count": 42,
     "metadata": {},
     "output_type": "execute_result"
    }
   ],
   "source": [
    "# Access specific elements in the list with Indexing\n",
    "# Note that the first element in the list has an index of 0 (little confusing but you'll get used to it!)\n",
    "grocery_list[0]  # Access the first element\n"
   ]
  },
  {
   "cell_type": "markdown",
   "id": "a57f5a09",
   "metadata": {},
   "source": [
    "MINI CHALLENGE #4:\n",
    "\n",
    "Print the first, second and last element in the list below\n",
    "\n",
    "grocery_list = ['milk', 'rice', 'eggs', 'bread', 'oranges', 'water']"
   ]
  },
  {
   "cell_type": "code",
   "execution_count": 45,
   "id": "1b548dd3",
   "metadata": {},
   "outputs": [
    {
     "data": {
      "text/plain": [
       "'water'"
      ]
     },
     "execution_count": 45,
     "metadata": {},
     "output_type": "execute_result"
    }
   ],
   "source": [
    "#Print the first, second and last element in the list below\n",
    "\n",
    "grocery_list = ['milk', 'rice', 'eggs', 'bread', 'oranges', 'water']\n",
    "grocery_list[0]  # First element\n",
    "grocery_list[1]  # Second element\n",
    "grocery_list[-1] # Last element"
   ]
  },
  {
   "cell_type": "markdown",
   "id": "3edbe18e",
   "metadata": {},
   "source": [
    "# TASK #5: UNDERSTAND COMPARISON OPERATORS AND CONDITIONAL STATEMENTS"
   ]
  },
  {
   "cell_type": "code",
   "execution_count": null,
   "id": "32663baf",
   "metadata": {},
   "outputs": [
    {
     "data": {
      "text/plain": [
       "False"
      ]
     },
     "execution_count": 46,
     "metadata": {},
     "output_type": "execute_result"
    }
   ],
   "source": [
    "# Comparison Operator output could be \"True\" or \"False\"\n",
    "# Let's cover equal '==' comparison operator first\n",
    "# It's simply a question: \"Is x equals y or not?\"\n",
    "# \"True\" output means condition is satisfied \n",
    "# \"False\" output means Condition is not satisfied (condition is not true) \n",
    "\n",
    "x = 100\n",
    "y = 200\n",
    "x == y  # Is x equals y?  \n",
    "\n",
    "# Note that '==' is a comparison operator \n",
    "# Note that '=' is used for variable assignment (put 10 in x)\n"
   ]
  },
  {
   "cell_type": "code",
   "execution_count": 47,
   "id": "e88cbd83",
   "metadata": {},
   "outputs": [
    {
     "data": {
      "text/plain": [
       "False"
      ]
     },
     "execution_count": 47,
     "metadata": {},
     "output_type": "execute_result"
    }
   ],
   "source": [
    "# Greater than or equal operator '>='\n",
    "x >= y  # Is x greater than or equal to y?\n"
   ]
  },
  {
   "cell_type": "markdown",
   "id": "c3c5e4f4",
   "metadata": {},
   "source": [
    "- A simple if-else statement is written in Python as follows:\n",
    "\n",
    "```\n",
    "if condition:\n",
    "  statement #1\n",
    "else:\n",
    "  statement #2\n",
    "```\n",
    "\n",
    "- If the condition is true, execute the first indented statement\n",
    "- if the condition is not true, then execute the else indented statements. \n",
    "- Note that Python uses indentation (whitespace) to indicate code sections and scope."
   ]
  },
  {
   "cell_type": "code",
   "execution_count": 48,
   "id": "ddee3e6a",
   "metadata": {},
   "outputs": [
    {
     "name": "stdout",
     "output_type": "stream",
     "text": [
      "Access Granted\n"
     ]
    }
   ],
   "source": [
    "# Let's take an input from the user and grant or deny access accordingly\n",
    "user_name = input('Enter your user name: ')\n",
    "password = input('Enter your password: ')  \n",
    "if user_name == 'admin' and password == 'password123':\n",
    "    print(\"Access Granted\")\n",
    "else:\n",
    "    print(\"Access Denied\")\n",
    "\n",
    "    "
   ]
  },
  {
   "cell_type": "markdown",
   "id": "db1f613a",
   "metadata": {},
   "source": [
    "MINI CHALLENGE #5:\n",
    "\n",
    "Write a code that takes a number from the user and indicates if it's positive or negative"
   ]
  },
  {
   "cell_type": "code",
   "execution_count": 50,
   "id": "a7f69ee7",
   "metadata": {},
   "outputs": [
    {
     "name": "stdout",
     "output_type": "stream",
     "text": [
      "The number is negative.\n"
     ]
    }
   ],
   "source": [
    "#Write a code that takes a number from the user and indicates if it's positive or negative\n",
    "# --- IGNORE ---        \n",
    "number = float(input(\"Enter a number: \"))\n",
    "if number >= 0:\n",
    "    print(\"The number is positive.\")\n",
    "else:\n",
    "    print(\"The number is negative.\")    "
   ]
  },
  {
   "cell_type": "markdown",
   "id": "ef4e5bda",
   "metadata": {},
   "source": [
    "# TASK #6: DEVELOP FUNCTIONS IN PYTHON"
   ]
  },
  {
   "cell_type": "code",
   "execution_count": 51,
   "id": "d43251e3",
   "metadata": {},
   "outputs": [],
   "source": [
    "# Define a function that takes in two argument x and y and returns their multiplication \n",
    "def multiply(x, y):\n",
    "    return x * y    \n",
    "\n"
   ]
  },
  {
   "cell_type": "code",
   "execution_count": 52,
   "id": "b101b383",
   "metadata": {},
   "outputs": [
    {
     "data": {
      "text/plain": [
       "50"
      ]
     },
     "execution_count": 52,
     "metadata": {},
     "output_type": "execute_result"
    }
   ],
   "source": [
    "# Call the function\n",
    "result = multiply(10, 5)\n",
    "result"
   ]
  },
  {
   "cell_type": "markdown",
   "id": "7ab4bf96",
   "metadata": {},
   "source": [
    "# TASK #7: UNDERSTAND FOR AND WHILE LOOPS"
   ]
  },
  {
   "cell_type": "code",
   "execution_count": 5,
   "id": "3fef0014",
   "metadata": {},
   "outputs": [
    {
     "data": {
      "text/plain": [
       "['milk', 'rice', 'eggs', 'bread', 'oranges', 'water']"
      ]
     },
     "execution_count": 5,
     "metadata": {},
     "output_type": "execute_result"
    }
   ],
   "source": [
    "# List of strings\n",
    "grocery_list = ['milk', 'rice', 'eggs', 'bread', 'oranges', 'water']\n",
    "grocery_list"
   ]
  },
  {
   "cell_type": "code",
   "execution_count": 6,
   "id": "916f1a09",
   "metadata": {},
   "outputs": [
    {
     "name": "stdout",
     "output_type": "stream",
     "text": [
      "milk\n",
      "rice\n",
      "eggs\n",
      "bread\n",
      "oranges\n",
      "water\n"
     ]
    }
   ],
   "source": [
    "for items in grocery_list:\n",
    "    print(items)\n",
    "\n"
   ]
  },
  {
   "cell_type": "code",
   "execution_count": 7,
   "id": "8a6ee7ff",
   "metadata": {},
   "outputs": [
    {
     "name": "stdout",
     "output_type": "stream",
     "text": [
      "0\n",
      "1\n",
      "2\n",
      "3\n",
      "4\n",
      "5\n",
      "6\n"
     ]
    }
   ],
   "source": [
    "# Range() generates a list of numbers, which is used to iterate over with for loops.\n",
    "# range() is 0-index based, meaning list indexes start at 0, not 1. \n",
    "# The last integer generated by range() is up to, but not including, last element. \n",
    "# Example: range(0, 7) generates integers from 0 up to, but not including, 7.\n",
    "\n",
    "for i in range(0, 7):\n",
    "    print(i)"
   ]
  },
  {
   "cell_type": "code",
   "execution_count": 8,
   "id": "7f8866f9",
   "metadata": {},
   "outputs": [
    {
     "name": "stdout",
     "output_type": "stream",
     "text": [
      "The count is: 0\n",
      "The count is: 1\n",
      "The count is: 2\n",
      "The count is: 3\n",
      "The count is: 4\n"
     ]
    }
   ],
   "source": [
    "# While loop can be used to execute a set of statements as long as a certain condition holds true.\n",
    "count = 0\n",
    "while count < 5:\n",
    "    print(\"The count is:\", count)\n",
    "    count += 1  # This is equivalent to count = count + 1"
   ]
  },
  {
   "cell_type": "markdown",
   "id": "488ec9b4",
   "metadata": {},
   "source": [
    "MINI CHALLENGE #7:\n",
    "\n",
    "Write a code that displays numbers from 1 to 10 using for and while loops"
   ]
  },
  {
   "cell_type": "code",
   "execution_count": 9,
   "id": "b93331f0",
   "metadata": {},
   "outputs": [
    {
     "name": "stdout",
     "output_type": "stream",
     "text": [
      "1\n",
      "2\n",
      "3\n",
      "4\n",
      "5\n",
      "6\n",
      "7\n",
      "8\n",
      "9\n",
      "10\n"
     ]
    }
   ],
   "source": [
    "# Write a code that displays numbers from 1 to 10 using for and while loops\n",
    "# --- IGNORE ---   \n",
    "for i in range(1, 11):\n",
    "    print(i)"
   ]
  }
 ],
 "metadata": {
  "kernelspec": {
   "display_name": "Python 3",
   "language": "python",
   "name": "python3"
  },
  "language_info": {
   "codemirror_mode": {
    "name": "ipython",
    "version": 3
   },
   "file_extension": ".py",
   "mimetype": "text/x-python",
   "name": "python",
   "nbconvert_exporter": "python",
   "pygments_lexer": "ipython3",
   "version": "3.10.7"
  }
 },
 "nbformat": 4,
 "nbformat_minor": 5
}
